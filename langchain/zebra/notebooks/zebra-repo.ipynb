{
 "cells": [
  {
   "cell_type": "code",
   "execution_count": 63,
   "id": "707cb4ba-a5a7-4d91-a3ba-c502643b34d4",
   "metadata": {},
   "outputs": [],
   "source": [
    "import os\n",
    "os.environ['LANGCHAIN_TRACING_V2'] = 'true'\n",
    "os.environ['LANGCHAIN_ENDPOINT'] = 'https://api.smith.langchain.com'"
   ]
  },
  {
   "cell_type": "code",
   "execution_count": 64,
   "id": "606cdf4a-b728-47c4-b455-03a886c30ca8",
   "metadata": {},
   "outputs": [],
   "source": [
    "from langchain_community.document_loaders.generic import GenericLoader\n",
    "from langchain_community.document_loaders.parsers import LanguageParser\n",
    "from langchain_text_splitters import Language\n",
    "from langchain_community.document_loaders import DirectoryLoader\n",
    "from langchain.text_splitter import RecursiveCharacterTextSplitter\n",
    "from langchain_community.vectorstores import Chroma\n",
    "from langchain_openai import ChatOpenAI, OpenAIEmbeddings\n",
    "\n",
    "# Load documents\n",
    "# mdloader = directory.DirectoryLoader(\"../../../z/ZcashFoundation/zebra/\", glob=\"**/*.md\", silent_errors=True, recursive=True)\n",
    "# mddocs = lmdoader.load()\n",
    "loader = GenericLoader.from_filesystem(\n",
    "    \"../../../z/ZcashFoundation/zebra/\",\n",
    "    glob=\"**/*\",\n",
    "    suffixes=[\".rs\", \".toml\", \".yaml\", \".md\", \".json\"],\n",
    "    parser=LanguageParser(),\n",
    ")\n",
    "docs = loader.load()\n",
    "text_splitter = RecursiveCharacterTextSplitter(chunk_size=1000, chunk_overlap=200)\n",
    "splits = text_splitter.split_documents(docs)\n",
    "vectorstore = Chroma.from_documents(documents=splits, \n",
    "                                    embedding=OpenAIEmbeddings())\n",
    "retriever = vectorstore.as_retriever()"
   ]
  },
  {
   "cell_type": "code",
   "execution_count": 83,
   "id": "af9f8ec2-c66d-40dd-8057-4eca59fb68a1",
   "metadata": {},
   "outputs": [],
   "source": [
    "from langchain.prompts import ChatPromptTemplate\n",
    "\n",
    "# RAG-Fusion\n",
    "template = \"\"\"You are a helpful assistant that generates multiple search queries based on a single input query. \\n\n",
    "Generate multiple search queries related to: {question} \\n\n",
    "Output (4 queries):\"\"\"\n",
    "prompt_rag_fusion = ChatPromptTemplate.from_template(template)"
   ]
  },
  {
   "cell_type": "code",
   "execution_count": 84,
   "id": "c5932227-7c09-4d91-a187-8c85798ad86d",
   "metadata": {},
   "outputs": [],
   "source": [
    "from langchain_core.output_parsers import StrOutputParser\n",
    "from langchain_openai import ChatOpenAI\n",
    "\n",
    "generate_queries = (\n",
    "    prompt_rag_fusion \n",
    "    | ChatOpenAI(temperature=0)\n",
    "    | StrOutputParser() \n",
    "    | (lambda x: x.split(\"\\n\"))\n",
    ")"
   ]
  },
  {
   "cell_type": "code",
   "execution_count": 87,
   "id": "b30c55c2-c355-4695-9a34-71eebbc790cd",
   "metadata": {},
   "outputs": [],
   "source": [
    "from langchain.load import dumps, loads\n",
    "\n",
    "def reciprocal_rank_fusion(results: list[list], k=60):\n",
    "    \"\"\" Reciprocal_rank_fusion that takes multiple lists of ranked documents \n",
    "        and an optional parameter k used in the RRF formula \"\"\"\n",
    "    \n",
    "    # Initialize a dictionary to hold fused scores for each unique document\n",
    "    fused_scores = {}\n",
    "\n",
    "    # Iterate through each list of ranked documents\n",
    "    for docs in results:\n",
    "        # Iterate through each document in the list, with its rank (position in the list)\n",
    "        for rank, doc in enumerate(docs):\n",
    "            # Convert the document to a string format to use as a key (assumes documents can be serialized to JSON)\n",
    "            doc_str = dumps(doc)\n",
    "            # If the document is not yet in the fused_scores dictionary, add it with an initial score of 0\n",
    "            if doc_str not in fused_scores:\n",
    "                fused_scores[doc_str] = 0\n",
    "            # Retrieve the current score of the document, if any\n",
    "            previous_score = fused_scores[doc_str]\n",
    "            # Update the score of the document using the RRF formula: 1 / (rank + k)\n",
    "            fused_scores[doc_str] += 1 / (rank + k)\n",
    "\n",
    "    # Sort the documents based on their fused scores in descending order to get the final reranked results\n",
    "    reranked_results = [\n",
    "        (loads(doc), score)\n",
    "        for doc, score in sorted(fused_scores.items(), key=lambda x: x[1], reverse=True)\n",
    "    ]\n",
    "\n",
    "    # Return the reranked results as a list of tuples, each containing the document and its fused score\n",
    "    return reranked_results\n",
    "\n",
    "question = \"How do I build an orchard transaction?\"\n",
    "retrieval_chain_rag_fusion = generate_queries | retriever.map() | reciprocal_rank_fusion"
   ]
  },
  {
   "cell_type": "code",
   "execution_count": 88,
   "id": "5bd31f1a-a32d-4d0f-b967-af7a8f3838ca",
   "metadata": {},
   "outputs": [
    {
     "data": {
      "text/plain": [
       "6"
      ]
     },
     "execution_count": 88,
     "metadata": {},
     "output_type": "execute_result"
    }
   ],
   "source": [
    "docs = retrieval_chain_rag_fusion.invoke({\"question\": question})\n",
    "len(docs)"
   ]
  },
  {
   "cell_type": "code",
   "execution_count": 89,
   "id": "df3aa15e-a289-48cf-a959-f400f7316c36",
   "metadata": {},
   "outputs": [
    {
     "data": {
      "text/plain": [
       "[(Document(page_content='orchard_tree.append(*orchard_note_commitment).unwrap();\\n                            }\\n                        }\\n                        new_transactions.push(Arc::new(transaction));\\n                    }\\n                }', metadata={'content_type': 'functions_classes', 'language': 'rust', 'source': '../../../z/ZcashFoundation/zebra/zebra-chain/src/block/arbitrary.rs'}),\n",
       "  0.09918032786885246),\n",
       " (Document(page_content='## State Management\\n\\n### Orchard\\n- There is a single copy of the latest Orchard Note Commitment Tree for the finalized tip.\\n- When finalizing a block, the finalized tip is updated with a serialization of the latest Orchard Note Commitment Tree. (The previous tree should be deleted as part of the same database transaction.)\\n- Each non-finalized chain gets its own copy of the Orchard note commitment tree, cloned from the note commitment tree of the finalized tip or fork root.\\n- When a block is added to a non-finalized chain tip, the Orchard note commitment tree is updated with the note commitments from that block.\\n- When a block is rolled back from a non-finalized chain tip... (TODO)', metadata={'source': '../../../z/ZcashFoundation/zebra/book/src/dev/rfcs/drafts/0005-treestate.md'}),\n",
       "  0.03306010928961749),\n",
       " (Document(page_content='| *Orchard*                          |                        |                               |         |\\n| `orchard_nullifiers`               | `orchard::Nullifier`   | `()`                          | Create  |\\n| `orchard_anchors`                  | `orchard::tree::Root`  | `()`                          | Create  |\\n| `orchard_note_commitment_tree`     | `block::Height`        | `orchard::NoteCommitmentTree` | Create  |\\n| `orchard_note_commitment_subtree`  | `block::Height`        | `NoteCommitmentSubtreeData`   | Create  |\\n| *Chain*                            |                        |                               |         |\\n| `history_tree`                     | `()`                   | `NonEmptyHistoryTree`         | Update  |\\n| `tip_chain_value_pool`             | `()`                   | `ValueBalance`                | Update  |', metadata={'source': '../../../z/ZcashFoundation/zebra/book/src/dev/state-db-upgrades.md'}),\n",
       "  0.03200204813108039),\n",
       " (Document(page_content='pub fn create_orchard_tree(\\n        &mut self,\\n        zebra_db: &ZebraDb,\\n        height: &Height,\\n        tree: &orchard::tree::NoteCommitmentTree,\\n    ) {\\n        let orchard_anchors = zebra_db.db.cf_handle(\"orchard_anchors\").unwrap();\\n        let orchard_tree_cf = zebra_db\\n            .db\\n            .cf_handle(\"orchard_note_commitment_tree\")\\n            .unwrap();\\n\\n        self.zs_insert(&orchard_anchors, tree.root(), ());\\n        self.zs_insert(&orchard_tree_cf, height, tree);\\n    }', metadata={'content_type': 'functions_classes', 'language': 'rust', 'source': '../../../z/ZcashFoundation/zebra/zebra-state/src/service/finalized_state/zebra_db/shielded.rs'}),\n",
       "  0.03200204813108039),\n",
       " (Document(page_content='A positive Orchard balancing value takes value from the Orchard transaction value pool and adds it to the transparent transaction value pool. A negative Orchard balancing value does the reverse. As a result, positive `vbalanceOrchard` is treated like an input to the transparent transaction value pool, whereas negative `vbalanceOrchard` is treated like an output from that pool.\\n\\nSimilarly to the Sapling chain value pool balance defined in [ZIP-209], the Orchard chain value pool balance for a given block chain is the negation of the sum of all `valueBalanceOrchard` field values for transactions in the block chain.\\n\\nIf the Orchard chain value pool balance would become negative in the block chain created as a result of accepting a block , then all nodes MUST reject the block as invalid.\\n\\nhttps://zips.z.cash/protocol/protocol.pdf#orchardbalance\\n\\n### Transparent Chain Value Pool\\n\\nConsensus rule:\\n\\nTransfers of transparent value work essentially as in Bitcoin', metadata={'source': '../../../z/ZcashFoundation/zebra/book/src/dev/rfcs/0012-value-pools.md'}),\n",
       "  0.03200204813108039),\n",
       " (Document(page_content='# Definitions\\n[definitions]: #definitions\\n\\n- `NU5` - the 5th Zcash network upgrade, counting from the `Overwinter` upgrade as upgrade zero.\\n- `Orchard` - a new shielded pool introduced in `NU5`.\\n- `Sapling` - a new shielded pool introduced in the 1st network upgrade. (`Sapling` is also the name of that network upgrade, but this RFC is focused on the `Sapling` shielded pool.)\\n- `orchard data` - Data types needed to support orchard transactions.\\n- `sapling data` - Data types needed to support sapling transactions.\\n- `orchard transaction version` - Transactions that support orchard data. Currently only V5.\\n- `sapling transaction version` - Transactions that support sapling data. Currently V4 and V5 but the data is implemented differently in them.\\n\\n# Guide-level explanation\\n[guide-level-explanation]: #guide-level-explanation', metadata={'source': '../../../z/ZcashFoundation/zebra/book/src/dev/rfcs/0010-v5-transaction.md'}),\n",
       "  0.03200204813108039)]"
      ]
     },
     "execution_count": 89,
     "metadata": {},
     "output_type": "execute_result"
    }
   ],
   "source": [
    "docs"
   ]
  },
  {
   "cell_type": "code",
   "execution_count": 90,
   "id": "cfc66816-eff5-4bf0-a5a3-e3b19c74390c",
   "metadata": {},
   "outputs": [
    {
     "data": {
      "text/plain": [
       "'To build an orchard transaction, you can follow the consensus rules outlined in the Orchard Chain Value Pool section of the Zcash protocol. This includes introducing Action transfers, performing spends and outputs, calculating the Orchard balancing value (vbalanceOrchard), encoding vbalanceOrchard as the field valueBalanceOrchard in the transaction, and ensuring that transaction fields are described as per the Transaction Encoding and Consensus guidelines. Additionally, you may need to create orchard_nullifiers, orchard_anchors, orchard_note_commitment_tree, and orchard_note_commitment_subtree as specified in the state database upgrades documentation.'"
      ]
     },
     "execution_count": 90,
     "metadata": {},
     "output_type": "execute_result"
    }
   ],
   "source": [
    "from operator import itemgetter\n",
    "from langchain_core.runnables import RunnablePassthrough\n",
    "\n",
    "# RAG\n",
    "template = \"\"\"Answer the following question based on this context:\n",
    "\n",
    "{context}\n",
    "\n",
    "Question: {question}\n",
    "\"\"\"\n",
    "\n",
    "prompt = ChatPromptTemplate.from_template(template)\n",
    "\n",
    "llm = ChatOpenAI(temperature=0)\n",
    "\n",
    "final_rag_chain = (\n",
    "    {\"context\": retrieval_chain_rag_fusion, \n",
    "     \"question\": itemgetter(\"question\")} \n",
    "    | prompt\n",
    "    | llm\n",
    "    | StrOutputParser()\n",
    ")\n",
    "\n",
    "final_rag_chain.invoke({\"question\":question})"
   ]
  },
  {
   "cell_type": "code",
   "execution_count": 91,
   "id": "7b3c08bf-c17f-4a97-bb04-57be95b5104e",
   "metadata": {},
   "outputs": [
    {
     "data": {
      "text/plain": [
       "'Some of the dependencies inside the repo include `tokio`, `tower`, `futures`, `color-eyre`, `tinyvec`, `humantime`, `owo-colors`, `spandoc`, `thiserror`, `tracing-subscriber`, `tracing-error`, `tracing`, `tempfile`, `bitflags`, `byteorder`, `bytes`, `chrono`, `dirs`, `hex`, `humantime-serde`, `indexmap`, `itertools`, `lazy_static`, `num-integer`, `ordered-map`, `pin-project`, `rand`, `rayon`, `regex`, `serde`, `howudoin`, `proptest`, `proptest-derive`, `elasticsearch`, `serde_json`, `zebra-chain`, `zebra-test`, among others.'"
      ]
     },
     "execution_count": 91,
     "metadata": {},
     "output_type": "execute_result"
    }
   ],
   "source": [
    "final_rag_chain.invoke({\"question\": \"What are different dependencies inside the repo?\"})"
   ]
  },
  {
   "cell_type": "code",
   "execution_count": 92,
   "id": "9ae00291-555e-4f9a-86ef-8b435d7cee45",
   "metadata": {},
   "outputs": [
    {
     "data": {
      "text/plain": [
       "'The important packages within the zebra repo include Zebra checkpoints, Docker Images updates, Continuous Integration and Deployment improvements, and Zebra Dependencies.'"
      ]
     },
     "execution_count": 92,
     "metadata": {},
     "output_type": "execute_result"
    }
   ],
   "source": [
    "final_rag_chain.invoke({\"question\": \"What are the important packages within the zebra repo?\"})"
   ]
  },
  {
   "cell_type": "code",
   "execution_count": 94,
   "id": "860c04b3-2c43-48df-b75d-97aa718fea27",
   "metadata": {},
   "outputs": [
    {
     "data": {
      "text/plain": [
       "[(Document(page_content='# Summary\\n\\n[Zebra](README.md)', metadata={'source': '../../../z/ZcashFoundation/zebra/book/src/SUMMARY.md'}),\n",
       "  0.13118237599993285),\n",
       " (Document(page_content='- Update Zebra checkpoints (#5130)\\n\\n#### Docker Images\\n\\n- Breaking: Allow Docker users to specify a custom `zebrad` config file path (#5163, #5177)\\n\\n#### Continuous Integration and Deployment\\n\\n- Wait 1 day before creating cached state image updates  (#5088)\\n- Delete cached state images older than 2 days, but keep a few recent images\\n  (#5113, #5124, #5082, #5079)\\n- Simplify GitHub actions caches (#5104)\\n- Use 200GB disks for managed instances (#5084)\\n- Improve test reliability and test output readability (#5014)\\n\\n#### Zebra Dependencies', metadata={'source': '../../../z/ZcashFoundation/zebra/CHANGELOG.md'}),\n",
       "  0.09706420555177826),\n",
       " (Document(page_content='# User Documentation\\n\\nThis section contains details on how to install, run, and instrument Zebra.', metadata={'source': '../../../z/ZcashFoundation/zebra/book/src/user.md'}),\n",
       "  0.03200204813108039)]"
      ]
     },
     "execution_count": 94,
     "metadata": {},
     "output_type": "execute_result"
    }
   ],
   "source": [
    "docs = retrieval_chain_rag_fusion.invoke({\"question\": \"What are the important packages within the zebra repo?\"})\n",
    "docs"
   ]
  },
  {
   "cell_type": "code",
   "execution_count": 96,
   "id": "7a857dfd-a3a4-446c-8f83-6d99bba4f176",
   "metadata": {},
   "outputs": [
    {
     "data": {
      "text/plain": [
       "[(Document(page_content='0xd6, 0xc3, 0x6e, 0xcf, 0x84, 0xd6, 0x93, 0x67, 0x2c, 0x53, 0xce, 0xd8, 0x79, 0x8c,\\n                0xc8, 0xf1, 0xe5, 0x3b, 0x8a, 0x9d, 0xe7, 0xbb, 0xb5, 0xe8, 0xc5, 0xa4, 0x6c, 0x3a,\\n                0x74, 0x12, 0xdf, 0x11, 0xc5, 0xda, 0x16, 0xb4, 0xdd, 0x22, 0x90, 0x1a, 0x59, 0x2b,\\n                0x0e, 0x93, 0x29, 0x77, 0xba, 0x06, 0x67, 0x3d, 0x6f, 0xd0, 0x38, 0xac, 0xba, 0xa9,\\n                0xbf, 0x79, 0xc1, 0x5b, 0xa6, 0x2b, 0x6e, 0x30, 0x74, 0xef, 0x95, 0x3b, 0x81, 0x4c,\\n                0xf1, 0xbd, 0xf0, 0x15, 0x77, 0xed, 0x3e, 0x3f, 0xae, 0xf4, 0x71, 0x55, 0xc9, 0x1c,\\n                0x68, 0xee, 0x32, 0x88, 0x1b, 0x73, 0x74, 0x94, 0xb3, 0xb4, 0x76, 0x08, 0x3b, 0x3b,\\n                0xd1, 0x77, 0x93, 0xc4, 0x98, 0x93, 0x1e, 0xaa, 0x92, 0xb1, 0x7c, 0x7d, 0x10, 0x47,\\n                0x58, 0xfc, 0x8b, 0x34, 0x93, 0xd2, 0x47, 0x41, 0x7f, 0x5e, 0xc1, 0x97, 0x9a, 0x35,\\n                0x28, 0x93, 0xe9, 0x95, 0x63, 0xb6, 0xc3, 0xab, 0x95, 0xcc, 0x5a, 0xfa, 0x37, 0x32,', metadata={'content_type': 'simplified_code', 'language': 'rust', 'source': '../../../z/ZcashFoundation/zebra/zebra-test/src/vectors/orchard_note_encryption.rs'}),\n",
       "  0.06612021857923497),\n",
       " (Document(page_content='mod preallocate;\\nmod prop;\\nmod test_vectors;\\nmod tree;', metadata={'content_type': 'simplified_code', 'language': 'rust', 'source': '../../../z/ZcashFoundation/zebra/zebra-chain/src/sapling/tests.rs'}),\n",
       "  0.03306010928961749),\n",
       " (Document(page_content='| [jubjub](https://github.com/zkcrypto/jubjub) | [0.9.0](https://github.com/zkcrypto/jubjub/releases/tag/0.9.0) | not sure if were covered by ECC audits. Seem widely used.\\n| [bellman](https://github.com/zkcrypto/bellman) | 0.13.1 | not sure if were covered by ECC audits. Seem widely used.', metadata={'source': '../../../z/ZcashFoundation/zebra/book/src/dev/zebra-dependencies-for-audit.md'}),\n",
       "  0.03306010928961749),\n",
       " (Document(page_content='0x5c, 0x6d, 0x71, 0x23, 0xe9, 0x53, 0x50, 0x81, 0x13, 0x75, 0x94, 0x7b, 0x05, 0x5a,\\n                0x43, 0xdb, 0x07, 0xe0, 0x3f, 0x33, 0x62, 0x7d, 0xf5, 0xc6, 0x38, 0xbf, 0xad, 0x95,\\n                0x6d, 0xdc, 0x1e, 0xa7, 0xd7, 0x62, 0x0a, 0x20, 0xf2, 0x79, 0x2f, 0x63, 0x81, 0x7a,\\n                0x1c, 0xf3, 0x25, 0x80, 0xd0, 0x42, 0x74, 0x23, 0x4a, 0xf2, 0xa5, 0x1b, 0x56, 0xbb,\\n                0x68, 0xa2, 0x9e, 0x43, 0xa9, 0x54, 0x14, 0x2b, 0xa4, 0xca, 0x68, 0x23, 0xbd, 0xe9,\\n                0x05, 0x3d, 0x72, 0xfd, 0xad, 0xbc, 0x61, 0xad, 0x59, 0x36, 0xc5, 0x3f, 0xdd, 0x75,\\n                0x79, 0x44, 0x6d, 0x11, 0xc4, 0x46, 0x07, 0xf4, 0x16, 0x30, 0xe4, 0xc0, 0x89, 0x15,\\n                0xe6, 0x31, 0x77, 0x15, 0x50, 0xe9, 0xce, 0x1f, 0xca, 0x2c, 0x63, 0xfe, 0x06, 0xb7,\\n                0x98, 0x9d, 0x58, 0x4f, 0xa7, 0xd7, 0x82, 0xa8, 0x8c, 0x1e, 0x7d, 0x64, 0xb6, 0xfb,\\n                0xf5, 0x5e, 0x35, 0x96, 0xaf, 0x9b, 0xcb, 0x75, 0x85, 0xf8, 0xc7, 0xd3, 0xaa, 0x5c,', metadata={'content_type': 'simplified_code', 'language': 'rust', 'source': '../../../z/ZcashFoundation/zebra/zebra-test/src/zip0243.rs'}),\n",
       "  0.03200204813108039),\n",
       " (Document(page_content='2.  Use an existing update / deployment mechanism to distribute our software;\\n\\n3.  Write our own update / deployment mechanism to distribute our software.\\n\\nThe first category is mentioned for completeness, but we need to provide users\\nwith a way to update their software.  Unfortunately, this means that standalone\\nbinaries without an update mechanism are not a workable option for us.  The\\nthird category is also unfavorable, because it creates a large amount of work\\nfor a task that is not really the focus of our product.  This suggests that we\\nfocus on solutions in the second category.', metadata={'source': '../../../z/ZcashFoundation/zebra/book/src/dev/rfcs/drafts/xxxx-release-planning.md'}),\n",
       "  0.03200204813108039),\n",
       " (Document(page_content='### Cryptography dependencies\\n\\n**All crypto dependencies are out of scope of the 1st audit**', metadata={'source': '../../../z/ZcashFoundation/zebra/book/src/dev/zebra-dependencies-for-audit.md'}),\n",
       "  0.03200204813108039),\n",
       " (Document(page_content='0x25, 0x36, 0xd5, 0xcf, 0x5c, 0x4a, 0xb1, 0x9d, 0xd9, 0x97, 0x71, 0x58, 0x2d, 0x03,\\n                0x81, 0x04, 0xb7, 0xe0, 0x39, 0xa3, 0x76, 0xf7, 0xac, 0xbb, 0xea, 0xdb, 0x34, 0xf9,\\n                0x45, 0xbe, 0xb9, 0xd7, 0xca, 0x0e, 0x4e, 0x3d, 0x5c, 0x5e, 0x4e, 0xb1, 0xd8, 0x52,\\n                0x6e, 0xbd, 0x13, 0xda, 0xcb, 0x1b, 0xa3, 0x57, 0x35, 0xc6, 0xd0, 0x4a, 0x45, 0x55,\\n                0xac, 0xf4, 0xbf, 0x11, 0x76, 0x26, 0x50, 0x0d, 0x77, 0xb3, 0x81, 0x89, 0xdd, 0x48,\\n                0x88, 0x04, 0x12, 0x25, 0xac, 0xbe, 0x38, 0x74, 0xa4, 0xc0, 0xf6, 0x07, 0xfe, 0x67,\\n                0x45, 0xf9, 0x35, 0x5b, 0x3f, 0xa1, 0x88, 0xf1, 0xd6, 0x5c, 0x09, 0xf3, 0x89, 0xaf,\\n                0x1b, 0x9d, 0x62, 0x32, 0xaa, 0x79, 0x44, 0x79, 0x19, 0xc5, 0x50, 0xf6, 0xf3, 0x1f,\\n                0xec, 0x35, 0x48, 0x1c, 0xb9, 0x22, 0xde, 0x2d, 0xb5, 0xb4, 0xda, 0x2f, 0x81, 0x94,\\n                0x86, 0x17, 0x02, 0x8e, 0x32, 0x17, 0x06, 0xa3, 0xa7, 0x78, 0xc1, 0x93, 0x8c, 0x44,', metadata={'content_type': 'simplified_code', 'language': 'rust', 'source': '../../../z/ZcashFoundation/zebra/zebra-test/src/zip0243.rs'}),\n",
       "  0.03200204813108039)]"
      ]
     },
     "execution_count": 96,
     "metadata": {},
     "output_type": "execute_result"
    }
   ],
   "source": [
    "retrieval_chain_rag_fusion.invoke({\"question\": \"which elliptic curves are used?\"})"
   ]
  },
  {
   "cell_type": "code",
   "execution_count": 97,
   "id": "e6b0e365-42b4-4c4b-b170-ab00e64fa74c",
   "metadata": {},
   "outputs": [
    {
     "data": {
      "text/plain": [
       "'The elliptic curves used are jubjub and bellman.'"
      ]
     },
     "execution_count": 97,
     "metadata": {},
     "output_type": "execute_result"
    }
   ],
   "source": [
    "final_rag_chain.invoke({\"question\": \"which elliptic curves are used?\"})"
   ]
  },
  {
   "cell_type": "code",
   "execution_count": 98,
   "id": "238720ff-8294-4822-b666-70ba4f32c225",
   "metadata": {},
   "outputs": [
    {
     "data": {
      "text/plain": [
       "'The elliptic curves are implemented in the Zebra zk-SNARK Parameters section of the Zebra documentation.'"
      ]
     },
     "execution_count": 98,
     "metadata": {},
     "output_type": "execute_result"
    }
   ],
   "source": [
    "final_rag_chain.invoke({\"question\": \"where are the elliptic curves implemented in zebra?\"})"
   ]
  },
  {
   "cell_type": "code",
   "execution_count": 99,
   "id": "55eac1d7-b8f4-49ed-8758-50545df7ee8c",
   "metadata": {},
   "outputs": [
    {
     "data": {
      "text/plain": [
       "'The repository is organized in a way that Docker images are used as a distribution mechanism for the software. The organization uses Docker Hub for end-user images and Google Artifact Registry to build external tools and test images. Additionally, the repository mentions the use of existing update/deployment mechanisms or the possibility of writing their own update/deployment mechanism to distribute the software. The focus is on solutions in the second category, which involves providing Docker images for easy deployment and updates.'"
      ]
     },
     "execution_count": 99,
     "metadata": {},
     "output_type": "execute_result"
    }
   ],
   "source": [
    "final_rag_chain.invoke({\"question\": \"explain how the repository is organized\"})"
   ]
  },
  {
   "cell_type": "code",
   "execution_count": 100,
   "id": "a81583d2-117f-4462-93d2-9299f5beecea",
   "metadata": {},
   "outputs": [
    {
     "data": {
      "text/plain": [
       "[(Document(page_content='One solution in the second category is to publish Docker images.  This has a\\nnumber of attractive features.  First, we already produce Docker images for our\\nown cloud deployments, so there is little-to-no marginal effort required to\\nproduce these for others as a distribution mechanism.  Second, providing Docker\\nimages will make it easier for us to provide a collection of related software\\nin the future (e.g., providing an easy-to-deploy Prometheus / Grafana instance,\\nor a sidecar Tor instance).  Third, Docker has a solid upgrade story, and we\\ncan instruct users to use the `:latest` version of the Docker image or steer\\nthem to auto-update mechanisms like Watchtower.', metadata={'source': '../../../z/ZcashFoundation/zebra/book/src/dev/rfcs/drafts/xxxx-release-planning.md'}),\n",
       "  0.13224043715846995),\n",
       " (Document(page_content='2.  Use an existing update / deployment mechanism to distribute our software;\\n\\n3.  Write our own update / deployment mechanism to distribute our software.\\n\\nThe first category is mentioned for completeness, but we need to provide users\\nwith a way to update their software.  Unfortunately, this means that standalone\\nbinaries without an update mechanism are not a workable option for us.  The\\nthird category is also unfavorable, because it creates a large amount of work\\nfor a task that is not really the focus of our product.  This suggests that we\\nfocus on solutions in the second category.', metadata={'source': '../../../z/ZcashFoundation/zebra/book/src/dev/rfcs/drafts/xxxx-release-planning.md'}),\n",
       "  0.09600614439324116),\n",
       " (Document(page_content='We use [Docker Hub](https://hub.docker.com/r/zfnd/zebra) for end-user images and [Google Artifact Registry](https://console.cloud.google.com/artifacts/docker/zfnd-dev-zebra/us/zebra) to build external tools and test images.', metadata={'source': '../../../z/ZcashFoundation/zebra/book/src/user/docker.md'}),\n",
       "  0.03200204813108039)]"
      ]
     },
     "execution_count": 100,
     "metadata": {},
     "output_type": "execute_result"
    }
   ],
   "source": [
    "retrieval_chain_rag_fusion.invoke({\"question\": \"explain how the repository is organized\"})"
   ]
  },
  {
   "cell_type": "code",
   "execution_count": 101,
   "id": "ec30af62-b028-43e1-95c3-559ffece3e3e",
   "metadata": {},
   "outputs": [
    {
     "data": {
      "text/plain": [
       "[(Document(page_content='2.  Use an existing update / deployment mechanism to distribute our software;\\n\\n3.  Write our own update / deployment mechanism to distribute our software.\\n\\nThe first category is mentioned for completeness, but we need to provide users\\nwith a way to update their software.  Unfortunately, this means that standalone\\nbinaries without an update mechanism are not a workable option for us.  The\\nthird category is also unfavorable, because it creates a large amount of work\\nfor a task that is not really the focus of our product.  This suggests that we\\nfocus on solutions in the second category.', metadata={'source': '../../../z/ZcashFoundation/zebra/book/src/dev/rfcs/drafts/xxxx-release-planning.md'}),\n",
       "  0.13012431484139575),\n",
       " (Document(page_content=\"This proposal is summarized above in the [guide-level\\nexplanation](#guide-level-explanation).\\n\\n## Release Processes\\n\\nThe next question is what kind of release processes and automation we should\\nuse.  Here are two important priorities for these processes:\\n\\n1.  Reducing the friction of doing any individual release, allowing us to move\\n    closer to a continuous deployment model;\\n2.  Reducing the risk of error in the release process.\\n\\nThese are roughly in order of priority but they're clearly related, since the\\nmore friction we have in the release process, the greater the risk of error,\\nand the greater the risk of error, the more friction we require to prevent it.\", metadata={'source': '../../../z/ZcashFoundation/zebra/book/src/dev/rfcs/drafts/xxxx-release-planning.md'}),\n",
       "  0.03306010928961749),\n",
       " (Document(page_content=\"In contrast to these downsides, distributing `zebra` through Cargo has a number\\nof upsides.  First, because we distribute our libraries using crates.io, we\\nalready have to manage tooling for publishing to crates.io, so there's no\\nadditional work required to publish `zebrad` this way.  Second, we get a\\ncross-platform update mechanism with no additional work, since `cargo install`\\nwill upgrade to the latest published version.  Third, we don't rely on any\\nthird parties to mediate the relationship between us and our users, so users\\ncan get updates as soon as we publish them.  Fourth, unlike a system package\\nmanager, we can pin exact hashes of every transitive dependency (via the\\n`Cargo.lock`, which `cargo install` can be configured to respect).  Fifth,\\nwe're positioned to pick up (or contribute to) ecosystem-wide integrity\\nimprovements like a transparency log for `crates.io` or work on reproducible\\nbuilds for Rust.\", metadata={'source': '../../../z/ZcashFoundation/zebra/book/src/dev/rfcs/drafts/xxxx-release-planning.md'}),\n",
       "  0.03306010928961749),\n",
       " (Document(page_content='One solution in the second category is to publish Docker images.  This has a\\nnumber of attractive features.  First, we already produce Docker images for our\\nown cloud deployments, so there is little-to-no marginal effort required to\\nproduce these for others as a distribution mechanism.  Second, providing Docker\\nimages will make it easier for us to provide a collection of related software\\nin the future (e.g., providing an easy-to-deploy Prometheus / Grafana instance,\\nor a sidecar Tor instance).  Third, Docker has a solid upgrade story, and we\\ncan instruct users to use the `:latest` version of the Docker image or steer\\nthem to auto-update mechanisms like Watchtower.', metadata={'source': '../../../z/ZcashFoundation/zebra/book/src/dev/rfcs/drafts/xxxx-release-planning.md'}),\n",
       "  0.03200204813108039),\n",
       " (Document(page_content=\"While this solution works well for cloud deployments, Docker is not suitable\\neverywhere.  What should we do outside of Docker?  One solution would be to try\\nto create packages for each platform-specific package manager (Homebrew,\\nsomething for Windows, various different flavors of Linux distribution), but\\nthis creates a large amount of additional work requiring platform-specific\\nknowledge.  Worse, this work cannot be outsourced to others without giving up\\ncontrol over our software distribution -- if, for instance, a third party\\ncreates a Homebrew package, and we recommend people install Zebra using that\\npackage, we're reliant on that third party to continue packaging our software\\nforever, or leave our users stranded.\", metadata={'source': '../../../z/ZcashFoundation/zebra/book/src/dev/rfcs/drafts/xxxx-release-planning.md'}),\n",
       "  0.03200204813108039)]"
      ]
     },
     "execution_count": 101,
     "metadata": {},
     "output_type": "execute_result"
    }
   ],
   "source": [
    "retrieval_chain_rag_fusion.invoke({\"question\": \"explain how is the source code organized? what different packages are in the repository?\"})"
   ]
  },
  {
   "cell_type": "code",
   "execution_count": 103,
   "id": "f59cb3a1-6cb7-49e5-8d8a-dcaf126ba947",
   "metadata": {},
   "outputs": [
    {
     "data": {
      "text/plain": [
       "\"NetworkChainTipHeightEstimator is a struct in Rust that is used for estimating the height of the network chain tip based on various parameters such as current block time, current height, current target spacing, and next target spacings. It is used in the context of estimating the height of the chain tip in the Zcash Foundation's Zebra project.\""
      ]
     },
     "execution_count": 103,
     "metadata": {},
     "output_type": "execute_result"
    }
   ],
   "source": [
    "final_rag_chain.invoke({\"question\": \"what is NetworkChainTipHeightEstimator all about?\"})"
   ]
  },
  {
   "cell_type": "code",
   "execution_count": 104,
   "id": "98e43a6a-0bb8-4e9d-834f-24719f53f299",
   "metadata": {},
   "outputs": [
    {
     "data": {
      "text/plain": [
       "[(Document(page_content='pub struct NetworkChainTipHeightEstimator {\\n    current_block_time: DateTime<Utc>,\\n    current_height: block::Height,\\n    current_target_spacing: Duration,\\n    next_target_spacings: vec::IntoIter<(block::Height, Duration)>,\\n}', metadata={'content_type': 'functions_classes', 'language': 'rust', 'source': '../../../z/ZcashFoundation/zebra/zebra-chain/src/chain_tip/network_chain_tip_height_estimator.rs'}),\n",
       "  0.13118237599993285),\n",
       " (Document(page_content='let estimator =\\n            NetworkChainTipHeightEstimator::new(current_block_time, current_height, network);\\n\\n        let distance_to_tip = estimator.estimate_height_at(Utc::now()) - current_height;\\n\\n        Some((distance_to_tip, current_height))\\n    }\\n}', metadata={'content_type': 'functions_classes', 'language': 'rust', 'source': '../../../z/ZcashFoundation/zebra/zebra-chain/src/chain_tip.rs'}),\n",
       "  0.12906625368285865)]"
      ]
     },
     "execution_count": 104,
     "metadata": {},
     "output_type": "execute_result"
    }
   ],
   "source": [
    "retrieval_chain_rag_fusion.invoke({\"question\": \"what is NetworkChainTipHeightEstimator all about?\"})"
   ]
  },
  {
   "cell_type": "code",
   "execution_count": null,
   "id": "144761cf-2afc-4c35-a010-a356e7842f92",
   "metadata": {},
   "outputs": [],
   "source": []
  }
 ],
 "metadata": {
  "kernelspec": {
   "display_name": "Python 3 (ipykernel)",
   "language": "python",
   "name": "python3"
  },
  "language_info": {
   "codemirror_mode": {
    "name": "ipython",
    "version": 3
   },
   "file_extension": ".py",
   "mimetype": "text/x-python",
   "name": "python",
   "nbconvert_exporter": "python",
   "pygments_lexer": "ipython3",
   "version": "3.12.2"
  }
 },
 "nbformat": 4,
 "nbformat_minor": 5
}
